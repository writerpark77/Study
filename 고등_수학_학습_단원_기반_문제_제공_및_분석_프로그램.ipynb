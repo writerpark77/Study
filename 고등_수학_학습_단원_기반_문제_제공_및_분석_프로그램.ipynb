{
  "nbformat": 4,
  "nbformat_minor": 0,
  "metadata": {
    "colab": {
      "provenance": []
    },
    "kernelspec": {
      "name": "python3",
      "display_name": "Python 3"
    },
    "language_info": {
      "name": "python"
    }
  },
  "cells": [
    {
      "cell_type": "markdown",
      "source": [
        "# 고등 수학 학습 단원 기반 문제 제공 및 분석 프로그램\n",
        "\n",
        "이 프로젝트는 AI-Hub에서 제공하는 고등 수학 라벨링 데이터를 활용하여 단원을 입력하면 해당 단원에 맞는 수학 문제를 자동으로 생성하는 프로그램입니다. 이 데이터는 문제와 모범 답안이 별도의 JSON 파일로 제공되며, 각 파일의 `id`를 기준으로 문제와 답을 매칭하여 학습 데이터를 구성합니다.\n"
      ],
      "metadata": {
        "id": "pEDUHQdHyt0-"
      }
    },
    {
      "cell_type": "code",
      "execution_count": 1,
      "metadata": {
        "colab": {
          "base_uri": "https://localhost:8080/"
        },
        "id": "-GEISjBLKY86",
        "outputId": "fa2d1b8a-953a-4f56-a7e3-7eb20d5074b4"
      },
      "outputs": [
        {
          "output_type": "stream",
          "name": "stdout",
          "text": [
            "Mounted at /content/drive\n"
          ]
        }
      ],
      "source": [
        "from google.colab import drive\n",
        "drive.mount('/content/drive')"
      ]
    },
    {
      "cell_type": "markdown",
      "source": [
        "## 데이터 출처\n",
        "\n",
        "- **출처**: AI-Hub\n",
        "- **데이터명**: 수학 과목 문제 생성 데이터\n",
        "- **설명**: 고등학교 수학 문제와 모범 답안을 포함하며, 각 문제는 문제의 난이도, 단원명, 유형 등의 정보가 포함된 JSON 파일로 제공됩니다. 답안 또한 별도의 JSON 파일로 저장되어 있으며, `id`를 기준으로 문제와 결합할 수 있습니다.\n"
      ],
      "metadata": {
        "id": "x843XlAWzewD"
      }
    },
    {
      "cell_type": "code",
      "source": [
        "! unzip \"/content/drive/MyDrive/111.수학 과목 문제생성 데이터/3.개방데이터/1.데이터/Training/02.라벨링데이터/TL_1.문제_고등학교_공통수학.zip\" -d './data'"
      ],
      "metadata": {
        "collapsed": true,
        "id": "rjhfgEhBKeC5"
      },
      "execution_count": null,
      "outputs": []
    },
    {
      "cell_type": "code",
      "source": [
        "! unzip \"/content/drive/MyDrive/111.수학 과목 문제생성 데이터/3.개방데이터/1.데이터/Training/02.라벨링데이터/TL_2.모범답안_고등학교_공통수학.zip\" -d './answer'"
      ],
      "metadata": {
        "collapsed": true,
        "id": "kpnxNjfMxi6z"
      },
      "execution_count": null,
      "outputs": []
    },
    {
      "cell_type": "markdown",
      "source": [
        "# 1. **데이터 로드 및 전처리**:\n",
        "   - 문제와 답안을 각각 로드하고 `id`를 기준으로 결합하여 문제-답안 쌍을 구성\n",
        "   - 각 문제의 단원명, 난이도, 문제 텍스트, 모범 답안을 포함하는 학습 데이터를 준비"
      ],
      "metadata": {
        "id": "ad_nv9cJzuTq"
      }
    },
    {
      "cell_type": "code",
      "source": [
        "import json\n",
        "import os\n",
        "\n",
        "# JSON 파일 경로\n",
        "question_folder_path = '/content/data'\n",
        "answer_folder_path = '/content/answer'\n",
        "\n",
        "# JSON 파일 로드 함수\n",
        "def load_json_files(folder_path):\n",
        "    data = {}\n",
        "    for file_name in os.listdir(folder_path):\n",
        "        if file_name.endswith('.json'):\n",
        "            with open(os.path.join(folder_path, file_name), 'r', encoding='utf-8') as file:\n",
        "                json_data = json.load(file)\n",
        "                # 각 파일의 id를 키로 사용하여 저장\n",
        "                data[json_data['id']] = json_data\n",
        "    return data\n",
        "\n",
        "# 문제와 답 파일 로드\n",
        "questions_data = load_json_files(question_folder_path)\n",
        "answers_data = load_json_files(answer_folder_path)\n",
        "\n",
        "# 문제와 답을 결합하여 전처리\n",
        "combined_data = []\n",
        "for question_id, question_item in questions_data.items():\n",
        "    if question_id in answers_data:\n",
        "        question_info = question_item.get('question_info', [{}])[0]\n",
        "        question_text = question_item.get('OCR_info', [{}])[0].get('question_text', '')\n",
        "        question_difficulty = question_info.get('question_difficulty', None)\n",
        "\n",
        "        answer_text = answers_data[question_id].get('answer_info', [{}])[0].get('answer_text', '')\n",
        "\n",
        "        if question_info and question_text and answer_text:\n",
        "            combined_data.append({\n",
        "                'topic_name': question_info.get('question_topic_name', ''),\n",
        "                'question_text': question_text,\n",
        "                'difficulty': question_difficulty,\n",
        "                'answer_text': answer_text\n",
        "            })\n",
        "\n"
      ],
      "metadata": {
        "id": "-MTDbA16wDEl"
      },
      "execution_count": 27,
      "outputs": []
    },
    {
      "cell_type": "code",
      "source": [
        "# 예제 데이터 출력\n",
        "for item in combined_data[:5]:  # 상위 5개만 출력\n",
        "    print(f\"단원명: {item['topic_name']}\")\n",
        "    print(f\"난이도: {item['difficulty']}\")\n",
        "    print(\"문제:\")\n",
        "    display(f\"{item['question_text']}\")\n",
        "    print(\"모범 답안:\")\n",
        "    display(f\"{item['answer_text']}\")\n",
        "    print()\n"
      ],
      "metadata": {
        "colab": {
          "base_uri": "https://localhost:8080/",
          "height": 751
        },
        "id": "rWJRh63Y0AuQ",
        "outputId": "61642757-7ab0-486c-dd6d-2b0074c0a75f"
      },
      "execution_count": 29,
      "outputs": [
        {
          "output_type": "stream",
          "name": "stdout",
          "text": [
            "단원명: 집합의 연산 법칙\n",
            "난이도: 3\n",
            "문제:\n"
          ]
        },
        {
          "output_type": "display_data",
          "data": {
            "text/plain": [
              "'세 집합 $A,  B,  C$에 대하여 $A\\\\cap B=\\\\lbrace2, 3, 4\\\\rbrace,  A\\\\cap C=\\\\lbrace3, 5\\\\rbrace$일 때, $A\\\\cap(B\\\\cup C)$를 구하시오.  $A\\\\cap(B\\\\cup C)=$'"
            ],
            "application/vnd.google.colaboratory.intrinsic+json": {
              "type": "string"
            }
          },
          "metadata": {}
        },
        {
          "output_type": "stream",
          "name": "stdout",
          "text": [
            "모범 답안:\n"
          ]
        },
        {
          "output_type": "display_data",
          "data": {
            "text/plain": [
              "'$A\\\\cap(B\\\\cup C)$ $= (A\\\\cap B)\\\\cup(A\\\\cap C)$ $= \\\\lbrace2, 3, 4\\\\rbrace\\\\cup\\\\lbrace3, 5\\\\rbrace$ $= \\\\lbrace2, 3, 4, 5\\\\rbrace$'"
            ],
            "application/vnd.google.colaboratory.intrinsic+json": {
              "type": "string"
            }
          },
          "metadata": {}
        },
        {
          "output_type": "stream",
          "name": "stdout",
          "text": [
            "\n",
            "단원명: 식의 변형을 이용한 다항식의 인수분해\n",
            "난이도: 2\n",
            "문제:\n"
          ]
        },
        {
          "output_type": "display_data",
          "data": {
            "text/plain": [
              "'$a+3b-c=0$일 때, 다음 중 $2a^2+6ab+c^2$과 같은 것은? ①3c(a+b) ②3b(a+c) ③3a(b+c) ④c(3a+b) ⑤$a(3b+c)$'"
            ],
            "application/vnd.google.colaboratory.intrinsic+json": {
              "type": "string"
            }
          },
          "metadata": {}
        },
        {
          "output_type": "stream",
          "name": "stdout",
          "text": [
            "모범 답안:\n"
          ]
        },
        {
          "output_type": "display_data",
          "data": {
            "text/plain": [
              "'$a+3b-c=0$에서 $c=a+3b$ $= 3(a+3b)(a+b) = 3c(a+b)$  $2a^2+6ab+c^2$= $2a^2+6ab+(a+3b)^2$= $2a(a+3b)+(a+3b)^2$=a(a+3b){2a+(a+3b)}=(a+3b)(3a+3b)=3(a+3b)(a+b)=3c(a+b)'"
            ],
            "application/vnd.google.colaboratory.intrinsic+json": {
              "type": "string"
            }
          },
          "metadata": {}
        },
        {
          "output_type": "stream",
          "name": "stdout",
          "text": [
            "\n",
            "단원명: 집합의 표현\n",
            "난이도: 3\n",
            "문제:\n"
          ]
        },
        {
          "output_type": "display_data",
          "data": {
            "text/plain": [
              "'다음 그림과 같이 벤다이어그램으로 표현된 집합 $A$를 조건제시법으로 바르게 나타낸 것은?  ①  $A=\\\\lbrace x|x$ 는 $8$ 의 양의 약수$\\\\rbrace$ ② $A=\\\\lbrace x|x$ 는 $10$ 의 양의 약수$\\\\rbrace$ ③ $A=\\\\lbrace x|x$ 는 $16$ 의 양의 약수$\\\\rbrace$ ④ $A=\\\\lbrace x|x$ 는 $10$ 이하의 $2$의 양의 배수 $\\\\rbrace$ ⑤ $A=\\\\lbrace x|x$ 는 $10$ 이하의 $4$의 양의 배수 $\\\\rbrace$'"
            ],
            "application/vnd.google.colaboratory.intrinsic+json": {
              "type": "string"
            }
          },
          "metadata": {}
        },
        {
          "output_type": "stream",
          "name": "stdout",
          "text": [
            "모범 답안:\n"
          ]
        },
        {
          "output_type": "display_data",
          "data": {
            "text/plain": [
              "'① $A=\\\\lbrace1, 2, 4, 8\\\\rbrace$ ② $A=\\\\lbrace1, 2, 5, 10\\\\rbrace$ ③ $A=\\\\lbrace1, 2, 4, 8, 16\\\\rbrace$ ④ $A=\\\\lbrace2, 4, 6, 8, 10\\\\rbrace$ ⑤ $A=\\\\lbrace4, 8\\\\rbrace$'"
            ],
            "application/vnd.google.colaboratory.intrinsic+json": {
              "type": "string"
            }
          },
          "metadata": {}
        },
        {
          "output_type": "stream",
          "name": "stdout",
          "text": [
            "\n",
            "단원명: 모든'이나 '어떤'이 있는 명제\n",
            "난이도: 3\n",
            "문제:\n"
          ]
        },
        {
          "output_type": "display_data",
          "data": {
            "text/plain": [
              "\"명제 '어떤 실수 $x$에 대하여 $x^2-x+3\\\\le0$이다.'의 부정의 참, 거짓을 판별하면? $\\\\bigcirc$ 참 $\\\\bigcirc$ 거짓\""
            ],
            "application/vnd.google.colaboratory.intrinsic+json": {
              "type": "string"
            }
          },
          "metadata": {}
        },
        {
          "output_type": "stream",
          "name": "stdout",
          "text": [
            "모범 답안:\n"
          ]
        },
        {
          "output_type": "display_data",
          "data": {
            "text/plain": [
              "\"명제의 부정은 '모든 실수 $x$에 대하여 $x^2-x+3>0$이다.' $x^2-x+3=(x-\\\\frac{1}{2})^2+\\\\frac{11}{4}>0$이므로 명제의 부정은 참이다.\""
            ],
            "application/vnd.google.colaboratory.intrinsic+json": {
              "type": "string"
            }
          },
          "metadata": {}
        },
        {
          "output_type": "stream",
          "name": "stdout",
          "text": [
            "\n",
            "단원명: 유한집합의 원소의 개수\n",
            "난이도: 3\n",
            "문제:\n"
          ]
        },
        {
          "output_type": "display_data",
          "data": {
            "text/plain": [
              "'다음 중 옳지 않은 것은? ① $n(\\\\lbrace1, 2, 3\\\\rbrace)-n(\\\\lbrace5, 6, 7\\\\rbrace)$ ② $A=\\\\lbrace0\\\\rbrace$이면 $n(A)=1$이다. ③ $n(A)=0$이면 $A=\\\\lbrace\\\\varnothing\\\\rbrace$이다. ④ $n(\\\\lbrace\\\\varnothing\\\\rbrace)-n(\\\\varnothing)=1$ ⑤ $n(\\\\lbrace20\\\\rbrace)-n(\\\\lbrace15\\\\rbrace)=0$'"
            ],
            "application/vnd.google.colaboratory.intrinsic+json": {
              "type": "string"
            }
          },
          "metadata": {}
        },
        {
          "output_type": "stream",
          "name": "stdout",
          "text": [
            "모범 답안:\n"
          ]
        },
        {
          "output_type": "display_data",
          "data": {
            "text/plain": [
              "'① $n(\\\\lbrace1, 2, 3\\\\rbrace)=n(\\\\lbrace5, 6, 7\\\\rbrace)=3$ ② $A=\\\\lbrace0\\\\rbrace$이면 $n(A) =1$이다. ③ $n(A)=0$이면 $A=\\\\varnothing$이다. ④ $n(\\\\lbrace\\\\varnothing\\\\rbrace)-n(\\\\varnothing) =1-0 =1$ ⑤ $n(\\\\lbrace20\\\\rbrace)-n(\\\\lbrace15\\\\rbrace) =1-1 =0$'"
            ],
            "application/vnd.google.colaboratory.intrinsic+json": {
              "type": "string"
            }
          },
          "metadata": {}
        },
        {
          "output_type": "stream",
          "name": "stdout",
          "text": [
            "\n"
          ]
        }
      ]
    },
    {
      "cell_type": "code",
      "source": [
        "# 단원 리스트 추출 함수\n",
        "def extract_unique_topics(data):\n",
        "    topics = set()  # 고유한 단원명을 저장하기 위해 집합 사용\n",
        "    for item in data:\n",
        "        topic_name = item.get('topic_name', '')\n",
        "        if topic_name:\n",
        "            topics.add(topic_name)\n",
        "    return sorted(list(topics))  # 정렬된 리스트로 반환\n",
        "\n",
        "# JSON 데이터에서 단원 리스트 추출\n",
        "topic_list = extract_unique_topics(combined_data)\n",
        "\n",
        "# 단원 리스트 출력\n",
        "print(\"선택할 수 있는 단원 리스트:\")\n",
        "for topic in topic_list:\n",
        "    print(f\"- {topic}\")"
      ],
      "metadata": {
        "colab": {
          "base_uri": "https://localhost:8080/"
        },
        "id": "C5YyZNBd3XhH",
        "outputId": "c8cc1b28-4aba-40fb-c470-e5163da78587"
      },
      "execution_count": 31,
      "outputs": [
        {
          "output_type": "stream",
          "name": "stdout",
          "text": [
            "선택할 수 있는 단원 리스트:\n",
            "-  x, y를 바꾸어도 식이 변하지 않는 연립이차방정식\n",
            "-  x³=-1의 허근의 성질\n",
            "- (분자의 차수)≥(분모의 차수)인 유리식\n",
            "- A < B < C 꼴의 부등식의 풀이\n",
            "- A⊂X⊂B를 만족시키는 집합 X\n",
            "- f(x, y)=0의 평행이동과 대칭이동\n",
            "- f=f^(-1)인 함수\n",
            "- f○g=g○f인 경우\n",
            "- f○g=h를 만족시키는 함수 f 또는 g 구하기\n",
            "- f○g에 대한 조건이 주어진 경우\n",
            "- x±1/x을 포함한 곱셈 공식의 변형\n",
            "- x절편, y절편이 주어진 직선의 방정식\n",
            "- x축 또는 y축에 접하는 원의 방정식\n",
            "- 거짓인 명제의 반례\n",
            "- 계수가 문자인 이차방정식의 근의 판별\n",
            "- 곱셈 공식\n",
            "- 곱셈 공식을 이용한 다항식의 전개\n",
            "- 곱셈 공식을 이용한 수의 계산\n",
            "- 곱셈 공식의 도형에의 활용\n",
            "- 공통부분이 있는 다항식의 인수분해\n",
            "- 공통부분이 있는 다항식의 전개\n",
            "- 귀류법\n",
            "- 그래프를 이용한 부등식의 풀이\n",
            "- 근과 계수의 관계\n",
            "- 근과 계수의 관계를 이용하여 식의 값 구하기\n",
            "- 근이 주어진 삼차방정식\n",
            "- 기호 ∈, ⊂의 사용\n",
            "- 나머지정리\n",
            "- 나머지정리를 이용한 수의 나눗셈\n",
            "- 다각형의 개수\n",
            "- 다항식의 나눗셈과 항등식\n",
            "- 다항식의 덧셈과 뺄셈\n",
            "- 다항식의 전개\n",
            "- 대우를 이용한 명제의 증명\n",
            "- 대칭이동\n",
            "- 대칭이동을 이용한 거리의 최솟값\n",
            "- 도형에서의 활용\n",
            "- 도형의 대칭이동\n",
            "- 도형의 평행이동\n",
            "- 두 이차방정식으로 이루어진 연립이차방정식\n",
            "- 두 점 사이의 거리\n",
            "- 두 점 사이의 거리의 활용\n",
            "- 두 점을 지름의 양 끝 점으로 하는 원의 방정식\n",
            "- 두 점이 주어진 직선의 방정식\n",
            "- 두 직선의 위치 관계\n",
            "- 두 집합의 포함 관계\n",
            "- 드모르간의 법칙\n",
            "- 명제\n",
            "- 명제가 참이 되도록 하는 상수 구하기\n",
            "- 명제의 대우를 이용하여 상수 구하기\n",
            "- 명제의 역, 대우의 참, 거짓\n",
            "- 명제의 참, 거짓\n",
            "- 명제의 참, 거짓과 진리집합\n",
            "- 모든'이나 '어떤'이 있는 명제\n",
            "- 몫과 나머지\n",
            "- 무리식의 값 구하기\n",
            "- 무리식의 값이 실수가 되기 위한 조건\n",
            "- 무리함수\n",
            "- 무리함수의 그래프\n",
            "- 무리함수의 그래프의 성질\n",
            "- 무리함수의 뜻\n",
            "- 무리함수의 정의역과 치역\n",
            "- 무리함수의 최대·최소\n",
            "- 무리함수의 합성함수와 역함수\n",
            "- 문자가 2 개인 곱셈 공식의 변형\n",
            "- 문자가 3 개인 곱셈 공식의 변형\n",
            "- 문자가 3 개인 식의 값\n",
            "- 미정계수법 (계수비교법)\n",
            "- 미정계수법(수치대입법)\n",
            "- 방정식 x³=1\n",
            "- 방정식 또는 부등식의 해의 집합의 연산\n",
            "- 방정식과 부등식의 해의 개수\n",
            "- 배수와 약수의 집합의 연산\n",
            "- 번분수식\n",
            "- 벤다이어그램의 색칠한 부분이 나타내는 집합\n",
            "- 복소수가 서로 같을 조건\n",
            "- 복소수가 실수 또는 순허수가 되기 위한 조건\n",
            "- 복소수의 뜻과 분류\n",
            "- 복소수의 사칙연산\n",
            "- 복잡한 식의 인수분해\n",
            "- 부등식 f(x) < 0 과 부등식 f(ax+b)의 관계\n",
            "- 부분분수로의 변형\n",
            "- 부분집합 구하기\n",
            "- 분모의 유리화\n",
            "- 분할, 분배하는 경우의 수\n",
            "- 뽑아서 나열하는 경우의 수\n",
            "- 사전식으로 배열하는 경우의 수\n",
            "- 사차방정식\n",
            "- 산술평균과 기하평균의 관계\n",
            "- 삼단논법\n",
            "- 삼차방정식과 사차방정식\n",
            "- 삼차방정식과 사차방정식의 풀이\n",
            "- 삼차방정식과 사차방정식의 활용\n",
            "- 삼차방정식의 근과 계수의 관계\n",
            "- 삼차방정식의 켤레근\n",
            "- 새롭게 약속된 집합의 연산\n",
            "- 서로 같은 집합\n",
            "- 서로 같은 함수\n",
            "- 서로소인 집합\n",
            "- 선분의 내분점과 외분점\n",
            "- 세 변의 길이에 따른 삼각형의 모양\n",
            "- 세 점을 지나는 원의 방정식\n",
            "- 세 직선의 위치 관계\n",
            "- 수직 또는 평행 조건이 주어질 때\n",
            "- 수직이등분선\n",
            "- 수형도, 도로망, 색칠\n",
            "- 순열\n",
            "- 순열의 계산\n",
            "- 식의 변형을 이용한 다항식의 인수분해\n",
            "- 실수의 성질을 이용한 절대부등식의 증명\n",
            "- 약수의 개수\n",
            "- 여러 가지 부분집합의 개수\n",
            "- 여러 개의 문자를 포함한 다항식의 인수분해\n",
            "- 여집합과 차집합\n",
            "- 역함수 구하기\n",
            "- 역함수의 성질\n",
            "- 역함수의 정의\n",
            "- 연립이차방정식\n",
            "- 연립이차방정식의 활용\n",
            "- 연립이차부등식\n",
            "- 연립이차부등식의 풀이\n",
            "- 연립일차부등식\n",
            "- 연립일차부등식의 풀이\n",
            "- 연립일차부등식의 활용\n",
            "- 원 밖의 점과 원 위의 점 사이의 거리\n",
            "- 원과 직선의 위치 관계\n",
            "- 원과 직선이 만나지 않을 때\n",
            "- 원과 직선이 서로 다른 두 점에서 만날 때\n",
            "- 원과 직선이 접할 때\n",
            "- 원의 방정식\n",
            "- 원의 방정식이 되기 위한 조건\n",
            "- 원의 평행이동\n",
            "- 유리식\n",
            "- 유리식의 값 구하기\n",
            "- 유리식의 덧셈, 뺄셈, 곱셈, 나눗셈\n",
            "- 유리함수의 그래프\n",
            "- 유리함수의 그래프의 성질\n",
            "- 유리함수의 정의역과 치역\n",
            "- 유리함수의 최대⋅최소\n",
            "- 유리함수의 합성함수와 역함수\n",
            "- 유한집합과 무한집합\n",
            "- 유한집합의 원소의 개수\n",
            "- 유한집합의 원소의 개수의 최댓값과 최솟값\n",
            "- 유한집합의 원소의 개수의 활용\n",
            "- 음수의 제곱근의 계산\n",
            "- 음수의 제곱근의 성질\n",
            "- 이웃하거나 이웃하지 않는 순열의 수\n",
            "- 이차방정식 f(x)=0과 f(ax+b)=0의 관계\n",
            "- 이차방정식의 근의 판별\n",
            "- 이차방정식의 식 세우기\n",
            "- 이차방정식의 실근의 부호 및 근의 분리\n",
            "- 이차방정식의 켤레근\n",
            "- 이차방정식의 풀이\n",
            "- 이차부등식의 풀이\n",
            "- 이차부등식의 활용\n",
            "- 이차부등식이 항상 성립할 조건\n",
            "- 이차식의 인수분해\n",
            "- 이차함수의 그래프와 x축의 교점\n",
            "- 이차함수의 그래프와 x축의 위치 관계\n",
            "- 이차함수의 그래프와 직선의 교점\n",
            "- 이차함수의 그래프와 직선의 위치 관계\n",
            "- 이차함수의 최대, 최소\n",
            "- 인수분해 공식\n",
            "- 인수분해 공식을 이용한 다항식의 인수분해\n",
            "- 인수분해를 이용한 수의 계산\n",
            "- 인수정리\n",
            "- 인수정리를 이용한 다항식의 인수분해\n",
            "- 일대일대응 찾기\n",
            "- 일차방정식과 이차방정식으로 이루어진 연립방정식\n",
            "- 자리에 대한 조건이 있는 순열의 수\n",
            "- 자연수의 개수\n",
            "- 자취의 방정식\n",
            "- 적어도'의 조건이 있는 순열의 수\n",
            "- 적어도'의 조건이 있는 조합의 수\n",
            "- 절댓값 기호가 있는 부등식의 풀이\n",
            "- 절댓값 기호를 포함한 식의 그래프\n",
            "- 절댓값 기호를 포함한 연립부등식의 풀이\n",
            "- 점과 직선 사이의 거리\n",
            "- 점의 대칭이동\n",
            "- 점의 평행이동\n",
            "- 접선의 길이\n",
            "- 접선의 방정식\n",
            "- 정점을 지나는 직선\n",
            "- 제곱근의 성질\n",
            "- 조건을 만족시키는 복소수 구하기\n",
            "- 조건을 만족시키는 부분집합의 개수\n",
            "- 조건을 만족시키는 집합 구하기\n",
            "- 조립제법\n",
            "- 조합 (1)\n",
            "- 조합의 계산\n",
            "- 조합의 수\n",
            "- 중심에 대한 조건이 주어진 원의 방정식\n",
            "- 지불 방법과 지불 금액\n",
            "- 직선의 개수\n",
            "- 직선의 그래프\n",
            "- 직선의 방정식\n",
            "- 진리집합\n",
            "- 집합 사이의 포함 관계\n",
            "- 집합 사이의 포함 관계가 성립하도록 하는 상수 구하기\n",
            "- 집합과 원소 사이의 관계\n",
            "- 집합의 뜻\n",
            "- 집합의 연산 (1)\n",
            "- 집합의 연산 (2)\n",
            "- 집합의 연산 법칙\n",
            "- 집합의 연산에 대한 성질\n",
            "- 집합의 연산을 이용한 미지수 구하기\n",
            "- 집합의 표현\n",
            "- 집합의 표현과 원소\n",
            "- 충분조건, 필요조건, 필요충분조건이 되는 상수 구하기\n",
            "- 켤레복소수\n",
            "- 켤레복소수의 성질\n",
            "- 코시-슈바르츠의 부등식\n",
            "- 특수한 해를 갖는 연립일차부등식\n",
            "- 특정한 것을 포함하거나 포함하지 않는 조합의 수\n",
            "- 포함 관계가 있는 두 집합의 연산\n",
            "- 한 근이 주어진 이차방정식\n",
            "- 한 점과 기울기가 주어진 직선의 방정식\n",
            "- 함수의 개수\n",
            "- 함수의 그래프와 역함수\n",
            "- 함수의 그래프와 합성함수\n",
            "- 함수의 뜻\n",
            "- 함수의 정의역, 공역, 치역\n",
            "- 함숫값\n",
            "- 합성함수\n",
            "- 합성함수와 역함수\n",
            "- 합성함수의 함숫값\n",
            "- 합의 법칙, 곱의 법칙\n",
            "- 합집합과 교집합\n",
            "- 항등식에서 계수의 합 구하기\n",
            "- 항등식의 뜻과 성질\n",
            "- 항등함수와 상수함수\n",
            "- 항이 네 개인 다항식의 인수분해\n",
            "- 해가 주어진 연립이차부등식\n",
            "- 해가 주어진 이차부등식\n",
            "- 해의 조건이 주어진 연립일차 부등식\n",
            "- 허수단위 i의 거듭제곱\n",
            "- 현의 길이\n"
          ]
        }
      ]
    },
    {
      "cell_type": "markdown",
      "source": [
        "# GPT-2 기반 수학 문제 및 답 생성 모델\n",
        "\n",
        "이 프로젝트는 `GPT-2` 모델을 활용하여 단원명과 난이도를 입력받아 수학 문제와 답을 생성하는 모델을 학습시킵니다. 학습 데이터는 고등학교 수학 문제와 답을 포함하며, Python과 Hugging Face의 `transformers` 라이브러리를 사용해 모델을 구현했습니다.\n",
        "\n",
        "### 1. 모델 및 토크나이저 로드\n",
        "`GPT-2` 모델과 토크나이저를 Hugging Face 라이브러리를 통해 불러옵니다."
      ],
      "metadata": {
        "id": "J-D_Hf203xTT"
      }
    },
    {
      "cell_type": "code",
      "source": [
        "from transformers import GPT2LMHeadModel, GPT2Tokenizer\n",
        "\n",
        "model_name = 'gpt2'\n",
        "tokenizer = GPT2Tokenizer.from_pretrained(model_name)\n",
        "model = GPT2LMHeadModel.from_pretrained(model_name)"
      ],
      "metadata": {
        "id": "4cNN639R47Te"
      },
      "execution_count": null,
      "outputs": []
    },
    {
      "cell_type": "markdown",
      "source": [
        "### 2. 학습 데이터 준비\n",
        "JSON 데이터에서 문제와 답을 추출하고 학습에 적합한 형식으로 변환하여 저장\n"
      ],
      "metadata": {
        "id": "VCjAoFsM41fq"
      }
    },
    {
      "cell_type": "code",
      "source": [
        "def format_data_for_training(data):\n",
        "    formatted_data = []\n",
        "    for item in data:\n",
        "        input_text = f\"단원: {item['topic_name']}\\n난이도: {item['difficulty']}\\n문제와 답을 생성:\\n\"\n",
        "        output_text = f\"문제: {item['question_text']}\\n답: {item['answer_text']}\\n\"\n",
        "        formatted_data.append(input_text + output_text)\n",
        "    return formatted_data\n",
        "\n",
        "training_data = format_data_for_training(combined_data)\n",
        "\n",
        "# 학습 데이터 파일로 저장\n",
        "with open(\"training_data.txt\", \"w\", encoding=\"utf-8\") as f:\n",
        "    for line in training_data:\n",
        "        f.write(line + \"\\n\")"
      ],
      "metadata": {
        "id": "AmL-Rziz5K4i"
      },
      "execution_count": null,
      "outputs": []
    },
    {
      "cell_type": "markdown",
      "source": [
        "### 3. 학습 데이터셋 생성\n",
        "저장된 텍스트 데이터를 `transformers`의 `TextDataset` 클래스를 사용하여 학습 데이터셋으로 변환합니다."
      ],
      "metadata": {
        "id": "3Saq8glb5H4z"
      }
    },
    {
      "cell_type": "code",
      "source": [
        "from transformers import TextDataset\n",
        "\n",
        "train_dataset = TextDataset(\n",
        "    tokenizer=tokenizer,\n",
        "    file_path=\"training_data.txt\",\n",
        "    block_size=128\n",
        ")"
      ],
      "metadata": {
        "id": "rOWb-FVN5UjZ"
      },
      "execution_count": null,
      "outputs": []
    },
    {
      "cell_type": "markdown",
      "source": [
        "### 4. 데이터 컬레이터 설정\n",
        "데이터 배치를 구성하기 위한 `DataCollatorForLanguageModeling` 설정입니다."
      ],
      "metadata": {
        "id": "rL9ZtxUn5iNT"
      }
    },
    {
      "cell_type": "code",
      "source": [
        "from transformers import DataCollatorForLanguageModeling\n",
        "\n",
        "data_collator = DataCollatorForLanguageModeling(\n",
        "    tokenizer=tokenizer,\n",
        "    mlm=False\n",
        ")"
      ],
      "metadata": {
        "id": "LOW__Zgs5RNt"
      },
      "execution_count": null,
      "outputs": []
    },
    {
      "cell_type": "markdown",
      "source": [
        "### 5. 학습 설정\n",
        "모델 학습을 위한 파라미터를 설정\n",
        "\n"
      ],
      "metadata": {
        "id": "cZPjOEXX5ZT5"
      }
    },
    {
      "cell_type": "code",
      "source": [
        "from transformers import TrainingArguments\n",
        "\n",
        "training_args = TrainingArguments(\n",
        "    output_dir=\"./results\",\n",
        "    overwrite_output_dir=True,\n",
        "    num_train_epochs=3,\n",
        "    per_device_train_batch_size=2,\n",
        "    save_steps=10,\n",
        "    save_total_limit=2,\n",
        "    prediction_loss_only=True\n",
        ")"
      ],
      "metadata": {
        "id": "wUKRv3NM5Y3d"
      },
      "execution_count": null,
      "outputs": []
    },
    {
      "cell_type": "markdown",
      "source": [
        "### 6. 트레이너 설정 및 모델 학습\n",
        "`Trainer` 클래스를 사용해 모델 학습을 설정하고 학습을 시작\n",
        "\n"
      ],
      "metadata": {
        "id": "SQFB72Bu5rXN"
      }
    },
    {
      "cell_type": "code",
      "source": [
        "from transformers import Trainer\n",
        "\n",
        "trainer = Trainer(\n",
        "    model=model,\n",
        "    args=training_args,\n",
        "    data_collator=data_collator,\n",
        "    train_dataset=train_dataset\n",
        ")\n",
        "\n",
        "trainer.train()"
      ],
      "metadata": {
        "id": "3XkT_DqH5tFd"
      },
      "execution_count": null,
      "outputs": []
    },
    {
      "cell_type": "markdown",
      "source": [
        "\n",
        "### 7. 모델 저장\n",
        "학습된 모델을 저장"
      ],
      "metadata": {
        "id": "9tMfMLjw5tVa"
      }
    },
    {
      "cell_type": "code",
      "source": [
        "trainer.save_model(\"./trained_model\")"
      ],
      "metadata": {
        "id": "ckd82pne5vp6"
      },
      "execution_count": null,
      "outputs": []
    },
    {
      "cell_type": "code",
      "source": [
        "from transformers import GPT2LMHeadModel, GPT2Tokenizer\n",
        "\n",
        "# 모델 및 토크나이저 로드\n",
        "model = GPT2LMHeadModel.from_pretrained(\"./trained_model\")\n",
        "tokenizer = GPT2Tokenizer.from_pretrained(model_name)\n",
        "\n",
        "# 단원명과 난이도를 입력받아 문제와 답 생성\n",
        "input_text = \"단원: 집합의 연산 법칙\\n난이도: 3\\n문제와 답을 생성:\\n\"\n",
        "input_ids = tokenizer.encode(input_text, return_tensors=\"pt\")\n",
        "\n",
        "output = model.generate(input_ids, max_length=150, num_return_sequences=1, temperature=0.7)\n",
        "generated_text = tokenizer.decode(output[0], skip_special_tokens=True)\n",
        "\n",
        "print(generated_text)"
      ],
      "metadata": {
        "id": "CMY-ueCU35UJ"
      },
      "execution_count": null,
      "outputs": []
    }
  ]
}